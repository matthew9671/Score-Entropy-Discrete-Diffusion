{
 "cells": [
  {
   "cell_type": "code",
   "execution_count": 1,
   "id": "27fc0a38",
   "metadata": {},
   "outputs": [
    {
     "name": "stdout",
     "output_type": "stream",
     "text": [
      "env: HF_HOME=/scratch/users/yixiuz/\n"
     ]
    }
   ],
   "source": [
    "%env HF_HOME /scratch/users/yixiuz/"
   ]
  },
  {
   "cell_type": "code",
   "execution_count": 2,
   "id": "358629f8",
   "metadata": {},
   "outputs": [],
   "source": [
    "import sys\n",
    "\n",
    "sys.path.remove(\"/home/users/yixiuz/.local/lib/python3.9/site-packages\")\n",
    "# sys.path.append(\"/home/groups/swl1/yixiuz/torch_fid/lib/python3.9/site-packages\")\n",
    "# sys.path.append(\"/home/groups/swl1/yixiuz/torch_fid/bin\")\n",
    "sys.path.append(\"/scratch/users/yixiuz/conda/envs/sedd/lib/python3.9/site-packages\")\n",
    "sys.path.append(\"/scratch/users/yixiuz/conda/envs/sedd/bin\")"
   ]
  },
  {
   "cell_type": "code",
   "execution_count": 3,
   "id": "e7429dcc",
   "metadata": {
    "scrolled": true
   },
   "outputs": [],
   "source": [
    "import torch\n",
    "import torch.nn as nn\n",
    "import torch.nn.functional as F\n",
    "import sys\n",
    "import numpy as np\n",
    "\n",
    "from load_model import load_model, load_model_hf\n",
    "from transformers import GPT2TokenizerFast\n",
    "import torch.nn.functional as F\n",
    "import sampling"
   ]
  },
  {
   "cell_type": "code",
   "execution_count": 4,
   "id": "ae33eb00",
   "metadata": {},
   "outputs": [],
   "source": [
    "device = torch.device(\"cuda\")"
   ]
  },
  {
   "cell_type": "code",
   "execution_count": 5,
   "id": "4c0aeb53",
   "metadata": {},
   "outputs": [],
   "source": [
    "sedd_tokenizer = GPT2TokenizerFast.from_pretrained('gpt2')"
   ]
  },
  {
   "cell_type": "markdown",
   "id": "40bd8976",
   "metadata": {},
   "source": [
    "# Loading the OpenWebText dataset"
   ]
  },
  {
   "cell_type": "code",
   "execution_count": 6,
   "id": "cb4ca6bd",
   "metadata": {},
   "outputs": [],
   "source": [
    "from torch.utils.data import DataLoader"
   ]
  },
  {
   "cell_type": "code",
   "execution_count": 7,
   "id": "72261575",
   "metadata": {
    "scrolled": true
   },
   "outputs": [
    {
     "data": {
      "application/vnd.jupyter.widget-view+json": {
       "model_id": "17082b53616c4309be10e620dfdb7a0c",
       "version_major": 2,
       "version_minor": 0
      },
      "text/plain": [
       "Loading dataset from disk:   0%|          | 0/110 [00:00<?, ?it/s]"
      ]
     },
     "metadata": {},
     "output_type": "display_data"
    }
   ],
   "source": [
    "from datasets import load_from_disk\n",
    "# Probably 45M sequences? 9B/200\n",
    "\n",
    "# Assuming 'data_dir' is the directory containing your .arrow files and 'dataset_name' is your dataset\n",
    "dataset = load_from_disk('/scratch/users/yixiuz/datasets/openwebtext_processed_pct100_blk200')\n",
    "full_dataset = dataset[\"train\"]\n",
    "validation_ratio = 0.01 # 1 pct of the data is used for validation\n",
    "validation_len = int(len(full_dataset) * validation_ratio)\n",
    "train_len = len(full_dataset) - validation_len\n",
    "train_dataset, eval_dataset = torch.utils.data.random_split(full_dataset, [train_len, validation_len], generator=torch.Generator().manual_seed(42)) # fixing seed here"
   ]
  },
  {
   "cell_type": "code",
   "execution_count": 8,
   "id": "32a65892",
   "metadata": {
    "scrolled": true
   },
   "outputs": [],
   "source": [
    "from transformers import AutoTokenizer\n",
    "core_lm_name = \"roberta-large\"\n",
    "tokenizer = AutoTokenizer.from_pretrained(core_lm_name, use_fast=False)"
   ]
  },
  {
   "cell_type": "code",
   "execution_count": 9,
   "id": "22ff1f46",
   "metadata": {},
   "outputs": [],
   "source": [
    "eval_seqs = eval_dataset[:1000]\n",
    "eval_text_seqs = tokenizer.batch_decode(eval_seqs['input_ids'])"
   ]
  },
  {
   "cell_type": "markdown",
   "id": "5c9a8f76",
   "metadata": {},
   "source": [
    "# Try to take conditional samples"
   ]
  },
  {
   "cell_type": "code",
   "execution_count": 10,
   "id": "8a763798",
   "metadata": {},
   "outputs": [
    {
     "name": "stderr",
     "output_type": "stream",
     "text": [
      "huggingface/tokenizers: The current process just got forked, after parallelism has already been used. Disabling parallelism to avoid deadlocks...\n",
      "To disable this warning, you can either:\n",
      "\t- Avoid using `tokenizers` before the fork if possible\n",
      "\t- Explicitly set the environment variable TOKENIZERS_PARALLELISM=(true | false)\n",
      "huggingface/tokenizers: The current process just got forked, after parallelism has already been used. Disabling parallelism to avoid deadlocks...\n",
      "To disable this warning, you can either:\n",
      "\t- Avoid using `tokenizers` before the fork if possible\n",
      "\t- Explicitly set the environment variable TOKENIZERS_PARALLELISM=(true | false)\n"
     ]
    },
    {
     "name": "stdout",
     "output_type": "stream",
     "text": [
      "Loading weights from local directory\n"
     ]
    },
    {
     "name": "stderr",
     "output_type": "stream",
     "text": [
      "100%|██████████| 100/100 [00:20<00:00,  4.77it/s]"
     ]
    },
    {
     "name": "stdout",
     "output_type": "stream",
     "text": [
      ". (Their mutual love of bamboo still persists, however.) At this point the red panda is in a family all its own – meaning males must consort with a pheromaph that selects for menstruation. ((Recall that the risk of death in the reproductive tract of a dammy is considerably higher than it is that a cervine will shed genitalia.))\n",
      "\n",
      "But taxonomic ambiguity should not take away from the red panda's many wonderful qualities, including above all else\n",
      "=================================================\n",
      " L ( G ) {\\displaystyle w\\in L(G)} CYK algorithm and Earley's Algorithm.\n",
      "\n",
      "By 2000, many languages were more functional, some of the features which other programming languages had started with, such as pointers and modular tools from other programming languages, for example, Basis;[23] Tener, Amédine, Perles, and Shamir[25]\n",
      "\n",
      "Languages that are not context-free [ edit ]\n",
      "\n",
      "The\n",
      "=================================================\n",
      " still necessary.\n",
      "\n",
      "\"(I've) already spoken out why I think it's the right thing to do to recognize same-sex unions... I expect (that) coming out and being a proponent of gay marriage will not is the answer for many of us, I just think this is the right thing to do.\"\n",
      "\n",
      "Yesterday when asked asked to go back the stance he took in favor of civil unions after being elected to a second term and said he never imagined then that the issue would have\n",
      "=================================================\n",
      " out and let those guys a) get used to the protection and obviously Tim (Masthay) and Mason and Brett (Thompson), the two rookies, have been sitting up until each other and ready to play. Since his first training camp out of the lockout, Cobb has been turning heads at practice to play. Now Cobb is starting to look like the rookie has a chance to compliment the wide receiver. Since his first training camp out of the lockout, Cobb has been turning heads at practice. On\n",
      "=================================================\n",
      " accusations against a poet. At Jezebel, where I worked at the time, I reported on the story at length.\n",
      "\n",
      "Questions in the comment section were, in effect, substantive, as some who disagreed about whether or notodds an alternative to the people who used them—and others who had questions about whether there’s an answer to that, about the extent and urgency of the problem, about the failures of existing institutions—found themselves at war over methodology. Part of the\n",
      "=================================================\n",
      " edition of the profoundly successful Hudson Festival of Canadian Film.\n",
      "\n",
      "Again this year, the Festival pays homage to those Canadian films that showcase at the Toronto International Film Festival (TIFF) for a carefully crafted and diverse film that is fully and worthy of a licence, even if the licit doesn’t save the producer all that many thousands of dollars. A cinematic glimpse into the life of Gordon Pinsent is on the list. So too is Mean Dreams, the Cannes Film Festival favourite crafted\n",
      "=================================================\n",
      " Rover’s search algorithm to search the ever-expanding Web.\n",
      "\n",
      "And while you’re surfing the Web, steal all Jeremy Clarkson’s!, “Top Gear,\" and “Top Gear” covers off the shelf. Essarazzi: the hosts of NYC Club’s Sweety Juice Blues podcast won 10% of proceeds from Space Bike to Mutiny.\n",
      "\n",
      "Watch the latest episode of Halt and Catch Fire available now on amc.\n",
      "=================================================\n",
      " 8.0 rebounds and 3.0 blocks while shooting 63.6 percent (and that doesn’t count a 16-8 record behind 3-point range). Jeff Humphries Healthiest overall season came in 2015-16, when he missed 13 games and struggled, while still averaging career highs-22.8 points and 5 per game. Jeff Humphries His healthiest season came in 2015-16, when he played in 33 games and started 10, averaging 3.6 points and 4\n",
      "=================================================\n",
      " 1949 and 1950-58, Baltimore Colts in 1950, Houston Oilers in 1960-66 before joining the Raiders in 1967.\n",
      "\n",
      "How much success did the Raiders have during 1967?\n",
      "\n",
      "The best record of the Raiders during 1967 was 4-0 in Beaverton, 9-4 were in 1967 and 14 in 1966, 1956 and 1962, including George Blanda who joined the Raiders in 1967 and helped lead the Raiders to Super Bowl II.\n",
      "\n",
      "George Blanda was famous for pulling off fourth\n",
      "=================================================\n",
      "\n",
      "\n",
      "Compared to one year ago, there are 70,000 more vets right now who have waited more than a month to have their papers dismissed. how does this not make things go smoother for the taxpayer. This is why government tabled the Veterans Choice Program about a year ago, and now the history is repeating itself. Sadly for citizens, though all the hurdles we throw at vets trying to use this Veterans Choice system, it doesn't look like the program really made things go smoother for them.\n",
      "=================================================\n",
      ". (Their mutual love of bamboo still persists, however.) At this point the red panda is in a family all its own, as in no distinction to be the runner-up or make-up of the others.\n",
      "\n",
      "The red panda is in a family of its own, with no distinction to be the runner-up of the others. (AP Photo)\n",
      "\n",
      "But taxonomic ambiguity should not take away from the red panda's many wonderful qualities, including above all else\n",
      "=================================================\n",
      " L ( G ) {\\displaystyle w\\in L(G)} CYK algorithm and Earley's Algorithm.\n",
      "\n",
      "Features of Chomsky [ edit ]\n",
      "\n",
      "The Informal language\n",
      "\n",
      "Cerelality language spoken with a dword following the word\n",
      "\n",
      "UNICITY language spoken with a dword at the end Derive ability for Brownie, Perles, and Shamir[25]\n",
      "\n",
      "Languages that are not context-free [ edit ]\n",
      "\n",
      "The\n",
      "=================================================\n",
      " still necessary.\n",
      "\n",
      "\"(I've) already spoken out why I think it's the right thing to do to recognize same-sex marriage and ended up with a strong underlying cause in gun control.\n",
      "\n",
      "I think it's really not true that this legislature has been so progressive.\n",
      "\n",
      "If you go back to 2014 when Gov. Bob McDonnell went ahead with the position he took in favor of civil unions after being elected to a second term and said he never imagined then that the issue would have\n",
      "=================================================\n",
      " out and let those guys a) get used to the protection and obviously Tim (Masthay) and Mason and Brett (Geiger), especially when they came out in the second quarter, the hell came out of them.\n",
      "\n",
      "F Terle Whitner said Randall Cobb is returning full game speed. Since the Jordy Nelson has made his recovery, the team has had to compliment the wide receiver. Since his first training camp out of the lockout, Cobb has been turning heads at practice. On\n",
      "=================================================\n",
      " accusations against a poet. At Jezebel, where I worked at the time, I reported on the story at length.\n",
      "\n",
      "The mainstream of American media, eager to do more of a broader—often left-leaning—examine the issues that many of the “rape” stories cover and read—many reports about the rape are the most systemic, about the extent and urgency of the problem, about the failures of existing institutions—found themselves at war over methodology. Part of the\n",
      "=================================================\n",
      " edition of the profoundly successful Hudson Festival of Canadian Film.\n",
      "\n",
      "Again this year, the Festival pays homage to those Canadian films out of the shadows, that reach out their local audiences, distancing creativity and integrity from the mockery of local awards gotha, by watchful displays of emotion for audience, and acclaim for filmmaker.\n",
      "\n",
      "The movingly touching Tales of Inquiry into the life of Gordon Pinsent is on the list. So too is Mean Dreams, the Cannes Film Festival favourite crafted\n",
      "=================================================\n",
      " Rover’s search algorithm to search the ever-expanding Web.\n",
      "\n",
      "And while you’re surfing the Web and you don’t want the headache to bolt onto the Compact Rover, lots of other Rover models are there waiting to be added to save you time and cost taking a little tinker to do.<|endoftext|>Halt and Catch Fire is going from Space Bike to Mutiny.\n",
      "\n",
      "Watch the latest episode of Halt and Catch Fire available now on amc.\n",
      "=================================================\n",
      " 8.0 rebounds and 3.0 blocks while shooting 63.6 percent (and that doesn’t count a 16-game sign and a bunch of healthy starts in camp). Boston declined to sign him chance, though they had had him on a second wave contract with the Hawks and the Clippers. It amounted to $4 million total.\n",
      "\n",
      "His next, healthiest season came in 2015-16, when he played in 33 games and started 10, averaging 3.6 points and 4\n",
      "=================================================\n",
      " 1949 and 1950-58, Baltimore Colts in 1950, Houston Oilers in 1960-66 before joining the Raiders in 1967.\n",
      "\n",
      "Guillermo Arando not only committed suicide at the Travis County DA’s office while a drug dealer, he even obstructed command of of peace, but he also successfully robbed another captain in exchange for saving his life. Arando joined the Raiders in 1967 and helped lead the Raiders to Super Bowl II.\n",
      "\n",
      "George Blanda was famous for pulling off fourth\n",
      "=================================================\n",
      "\n",
      "\n",
      "Compared to one year ago, there are 70,000 more vets right now who have waited more than a month to receive this Veterans Choice system. For those of us that had to wait a little later, there is no war of 70,000 more vets. That is something they have to work hard to see. It doesn't help, but when we've looked at vets trying to use this Veterans Choice system, it doesn't look like the program really made things go smoother for them.\n",
      "=================================================\n",
      ". (Their mutual love of bamboo still persists, however.) At this point the red panda is in a family all its own, exposing great taxonomic diversity with an entirely different kind of warmongry.\n",
      "\n",
      "The ambiguity of the Yuchevinidae and the nuclear line taken by the redis panda family (Iizawa 1971:246, 347)\n",
      "\n",
      "But taxonomic ambiguity should not take away from the red panda's many wonderful qualities, including above all else\n",
      "=================================================\n",
      " L ( G ) {\\displaystyle w\\in L(G)} CYK algorithm and Earley's Algorithm.\n",
      "\n",
      "The well-known multi-core Ramming algorithm for multi-user interaction (Mule) and the efficient meantime delayer: Fermi, Hald, Albert, [De]eger, Brook, (Bennbart), Perles, and Shamir[25]\n",
      "\n",
      "Languages that are not context-free [ edit ]\n",
      "\n",
      "The\n",
      "=================================================\n",
      " still necessary.\n",
      "\n",
      "\"(I've) already spoken out why I think it's the right thing to do to recognize same-sex marriage. And I've spoken out why it's not my job to be what's going (on) behind the scenes,\" acknowledging his role in an organization seeking equality for citizens of Missouri.\n",
      "\n",
      "The former governor also recounted the strong stance he took in favor of civil unions after being elected to a second term and said he never imagined then that the issue would have\n",
      "=================================================\n",
      " out and let those guys a) get used to the protection and obviously Tim (Masthay) and Mason and Brett (Brett) as well go out and make life harder for guys, at the edge, when they blow the whistle. On If the Packers Have One More Wide Receiver Cobb has been a key player since 2010, and a guy who is top quality, to compliment the wide receiver. Since his first training camp out of the lockout, Cobb has been turning heads at practice. On\n",
      "=================================================\n",
      " accusations against a poet. At Jezebel, where I worked at the time, I reported on the story at length. The story was embedded on our Twitter feed. Something predictable about the story, which was that it came from the people who had falsely expelled someone. And something surprising about the story, which is that the same people—the people who had published, about the extent and urgency of the problem, about the failures of existing institutions—found themselves at war over methodology. Part of the\n",
      "=================================================\n",
      " edition of the profoundly successful Hudson Festival of Canadian Film.\n",
      "\n",
      "Again this year, the Festival pays homage to those Canadian films with a particular commitment in style. Threes Fell In Love is one of the films on the list of likes made by élites Clement Simms, the fiery French filmmaker and Philippe Mustard. Steal a Story starring Charlotte Betts as she looks into the life of Gordon Pinsent is on the list. So too is Mean Dreams, the Cannes Film Festival favourite crafted\n",
      "=================================================\n",
      " Rover’s search algorithm to search the ever-expanding Web.\n",
      "\n",
      "And while you’re surfing the Web check out the content over at us on Das’Blog.com as well. Check out Matrix Politics, an analysis of the most influential intellectuals on the planet and Zombie War, an in-depth article on the Great War of the Zombies, from Space Bike to Mutiny.\n",
      "\n",
      "Watch the latest episode of Halt and Catch Fire available now on amc.\n",
      "=================================================\n",
      " 8.0 rebounds and 3.0 blocks while shooting 63.6 percent (and that doesn’t count a 16.2 points on 23 percent shooting), when opening up a play from such close range that Green probably feels comfortable working but not quite enough to give his guard enough rest for his natural working pattern on a screen fake.\n",
      "\n",
      "Green’s steadiest season came in 2015-16, when he played in 33 games and started 10, averaging 3.6 points and 4\n",
      "=================================================\n",
      " 1949 and 1950-58, Baltimore Colts in 1950, Houston Oilers in 1960-66 before joining the Raiders in 1967.\n",
      "\n",
      "Originally the defensive coordinator of the Green Bay Packers in 1959 and serving under head coach in New Orleans with the New York Giants in 1960, Holt was brought in as the Giants's coordinator in 1967. His record improved to seven consecutive losses when he joined the Raiders in 1967 and helped lead the Raiders to Super Bowl II.\n",
      "\n",
      "George Blanda was famous for pulling off fourth\n",
      "=================================================\n",
      "\n",
      "\n",
      "Compared to one year ago, there are 70,000 more vets right now who have waited more than a month to get through transfer, their wait times... they’re waiting and waiting to able to get on that program.\n",
      "\n",
      "I can’t believe that the program did make things go smoother for these vets!\n",
      "\n",
      "I now take a look at vets trying to use this Veterans Choice system, it doesn't look like the program really made things go smoother for them.\n",
      "=================================================\n",
      ". (Their mutual love of bamboo still persists, however.) At this point the red panda is in a family all its own;, not just a panda like any other living thing, but the world's oldest living panda too.\n",
      "\n",
      "Peterminus madrebius, or Peterminus madrebius (via Amy Huber / flickr)\n",
      "\n",
      "But taxonomic ambiguity should not take away from the red panda's many wonderful qualities, including above all else\n",
      "=================================================\n",
      " L ( G ) {\\displaystyle w\\in L(G)} CYK algorithm and Earley's Algorithm.\n",
      "\n",
      "Hakutoshiômolokauki (Japanese names): Kok Sayan, Jan Ishimoto, Ko Kodke and Ke Kod\n",
      "\n",
      "21st century [ edit ]\n",
      "\n",
      "(1579–8000): Margaret Clark, Menander, Perles, and Shamir[25]\n",
      "\n",
      "Languages that are not context-free [ edit ]\n",
      "\n",
      "The\n",
      "=================================================\n",
      " still necessary.\n",
      "\n",
      "\"(I've) already spoken out why I think it's the right thing to do to recognize same-sex marriage, whether he kept his position before -- when he was governor -- previously to recognize same-sex marriage -- because they're allowed to marry within the DOMA Act.\n",
      "\n",
      "And in fact, in date, add to that another position he took in favor of civil unions after being elected to a second term and said he never imagined then that the issue would have\n",
      "=================================================\n",
      " out and let those guys a) get used to the protection and obviously Tim (Masthay) and Mason and Brett (Webb) are going to continue to show them the physical ability to be a great player in the slot. On so much of his routes, Cobb does not handicap what the corner is trying to fill up in the slot because the corner is focused to compliment the wide receiver. Since his first training camp out of the lockout, Cobb has been turning heads at practice. On\n",
      "=================================================\n",
      " accusations against a poet. At Jezebel, where I worked at the time, I reported on the story at length. “Net has been filled with death threats against writers attacking the work of the A.M.F. That was being reported on a tips. And the divide is very wide. Some writers dismissed the sherries’ failure while others—about the extent and urgency of the problem, about the failures of existing institutions—found themselves at war over methodology. Part of the\n",
      "=================================================\n",
      " edition of the profoundly successful Hudson Festival of Canadian Film.\n",
      "\n",
      "Again this year, the Festival pays homage to those Canadian films that have managed to methodically upended in a truly valiant bid to do good to Canadian audiences and film programs that do indeed have truly bonded with the their own Canadian filmmakers. So it is no sense Takedown a Whippett, the fresh glimpse into the life of Gordon Pinsent is on the list. So too is Mean Dreams, the Cannes Film Festival favourite crafted\n",
      "=================================================\n",
      " Rover’s search algorithm to search the ever-expanding Web.\n",
      "\n",
      "And while you’re surfing the net the way you did years ago—sururfing it with drama!\n",
      "\n",
      "With the first season of Halt and Catch Fire down, Halt and Catch Fire is where you actually want to be in the news—live and dissect the stuff from Space Bike to Mutiny.\n",
      "\n",
      "Watch the latest episode of Halt and Catch Fire available now on amc.\n",
      "=================================================\n",
      " 8.0 rebounds and 3.0 blocks while shooting 63.6 percent (and that doesn’t count a 16-pointer at overtime against the Rockets from K.J. Wright the last time I saw and said), “I felt the effort level to play was similar to what we have now.”\n",
      "\n",
      "Woods’s downright noisiest season came in 2015-16, when he played in 33 games and started 10, averaging 3.6 points and 4\n",
      "=================================================\n",
      " 1949 and 1950-58, Baltimore Colts in 1950, Houston Oilers in 1960-66 before joining the Raiders in 1967.\n",
      "\n",
      "He was the first Texas and Baltimore in 1971, the Oilers in 1963-64, the Colts in 1965-66 (35-36), coached the squad in 1954 and 1958 (46-58), then was there in 1959-60 before joining the Raiders in 1967 and helped lead the Raiders to Super Bowl II.\n",
      "\n",
      "George Blanda was famous for pulling off fourth\n",
      "=================================================\n",
      "\n",
      "\n",
      "Compared to one year ago, there are 70,000 more vets right now who have waited more than a month to get their bearings. Instead of just one year ago, a handful of thousands more are getting on their way to the land of opportunity just one year later.\n",
      "\n",
      "Because of everybody's amount of naysaying, when you go and take a look at vets trying to use this Veterans Choice system, it doesn't look like the program really made things go smoother for them.\n",
      "=================================================\n",
      ". (Their mutual love of bamboo still persists, however.) At this point the red panda is in a family all its own, namely a frog called Gibonoanna (Parin) ( Orlinauroa), with rigorous evidence of its distribution throughout the world.\n",
      "\n",
      "Gonoanna (Parina caudrenta) ( Orlinauroa)\n",
      "\n",
      "But taxonomic ambiguity should not take away from the red panda's many wonderful qualities, including above all else\n",
      "=================================================\n",
      " L ( G ) {\\displaystyle w\\in L(G)} CYK algorithm and Earley's Algorithm.\n",
      "\n",
      "Spaces that do not feel like real names [ edit ]\n",
      "\n",
      "Samars\n",
      "\n",
      "\"I like 'SAMari'—il\"[]] Though I don't have 'Samari', know such creatures, like Phu(22), Perles, and Shamir[25]\n",
      "\n",
      "Languages that are not context-free [ edit ]\n",
      "\n",
      "The\n",
      "=================================================\n",
      " still necessary.\n",
      "\n",
      "\"(I've) already spoken out why I think it's the right thing to do to recognize same sex marriage and I don't let people portray me as being a bad person when what I do is to help the lonely need to expand their window so we can all share the common life without fear and bullying.\n",
      "\n",
      "He stressed the somber position he took in favor of civil unions after being elected to a second term and said he never imagined then that the issue would have\n",
      "=================================================\n",
      " out and let those guys a) get used to the protection and obviously Tim (Masthay) and Mason and Brett (Maybach) practiced today about having the fourth and final look, will the quarterback come downfield or get a blocker up or will you put the inside linebacker into position of pass protection not himself. On adding another Randall Cobb on safety and at defensive line to compliment the wide receiver. Since his first training camp out of the lockout, Cobb has been turning heads at practice. On\n",
      "=================================================\n",
      " accusations against a poet. At Jezebel, where I worked at the time, I reported on the story at length.\n",
      "\n",
      "There was a major paper aimed at broadening the relationship between medicine, ecology, and anthropology. It suggested that one reason for the era between 1986 and 2001 was that many scientists—enter the seabed for as long as possible, about the extent and urgency of the problem, about the failures of existing institutions—found themselves at war over methodology. Part of the\n",
      "=================================================\n",
      " edition of the profoundly successful Hudson Festival of Canadian Film.\n",
      "\n",
      "Again this year, the Festival pays homage to those Canadian films that his inhabitants of the First Nations movement. The long and important history of dueling xenophobia makes this year’s batch of some of the best either.\n",
      "\n",
      "What’s more, even the Big Marriage, whose poignant digories into the life of Gordon Pinsent is on the list. So too is Mean Dreams, the Cannes Film Festival favourite crafted\n",
      "=================================================\n",
      " Rover’s search algorithm to search the ever-expanding Web.\n",
      "\n",
      "And while you’re surfing the Web—before you watch a pitch, pop over to Dark Horse Magazine to chat with Bill Donahue. Grab that post card and get creative.\n",
      "\n",
      "Filmgate partnered Skeleton Review—to have our own opinions on your favourite ghost stories, from Space Bike to Mutiny.\n",
      "\n",
      "Watch the latest episode of Halt and Catch Fire available now on amc.\n",
      "=================================================\n",
      " 8.0 rebounds and 3.0 blocks while shooting 63.6 percent (and that doesn’t count a 16-foot jumper). During the 2017-18 season, he made more starts ever (52) than career (50), including multiple games in 2016-17 when he averaged 2.7 points and 1.7 blocks.\n",
      "\n",
      "But his sturdiest season came in 2015-16, when he played in 33 games and started 10, averaging 3.6 points and 4\n",
      "=================================================\n",
      " 1949 and 1950-58, Baltimore Colts in 1950, Houston Oilers in 1960-66 before joining the Raiders in 1967.\n",
      "\n",
      "Jerry Williams ranks above some through his game-changing talent as the best outside linebacker ever taken at the NFL Draft, traded 55th by the Baltimore Colts in 1965 to the St. Louis Buccaneers, flashing back where for the past seven seasons before joining the Raiders in 1967 and helped lead the Raiders to Super Bowl II.\n",
      "\n",
      "George Blanda was famous for pulling off fourth\n",
      "=================================================\n",
      "\n",
      "\n",
      "Compared to one year ago, there are 70,000 more vets right now who have waited more than a month to access the Veterans Choice system....There are about 17,000 more vets right now who wait to than two weeks to access the Veterans Choice system....There are 5,000 more vets right now waiting more than eight weeks to get in.'\"Analysis: Looking at vets trying to use this Veterans Choice system, it doesn't look like the program really made things go smoother for them.\n",
      "=================================================\n"
     ]
    },
    {
     "name": "stderr",
     "output_type": "stream",
     "text": [
      "\n"
     ]
    }
   ],
   "source": [
    "# TODO: we can concatenate the input locs and ids for all the test examples\n",
    "seq_len = 100\n",
    "prefix_len = 25\n",
    "suffix_len = 25\n",
    "num_samples = 5\n",
    "num_examples = 10\n",
    "model_path = \"../downloads/sedd-medium\"\n",
    "steps = 100\n",
    "\n",
    "curr_id_seqs = sedd_tokenizer(eval_text_seqs[:num_examples]).input_ids\n",
    "curr_input_ids = [seq[:prefix_len] + seq[seq_len-suffix_len:seq_len] for seq in curr_id_seqs]\n",
    "input_ids = curr_input_ids * num_samples\n",
    "input_locs = list(range(prefix_len)) + list(range(seq_len-suffix_len, seq_len))\n",
    "\n",
    "input_ids = torch.tensor(input_ids, device=\"cuda\")\n",
    "\n",
    "def proj_fun(x):\n",
    "    x[:, input_locs] = input_ids\n",
    "    return x\n",
    "\n",
    "device = torch.device('cuda')\n",
    "model, graph, noise = load_model(model_path, device)\n",
    "\n",
    "\n",
    "# sampling_fn = sampling.get_pc_sampler(\n",
    "#     graph, noise, (num_samples * num_examples, seq_len), 'analytic', steps, device=device, proj_fun=proj_fun\n",
    "# )\n",
    "sampling_fn = sampling.get_pc_sampler(\n",
    "            graph, noise, (num_samples * num_examples, seq_len), 'analytic', steps, \n",
    "            device=device, proj_fun=proj_fun,\n",
    "            corrector_type=\"BirthDeath\", corrector_entry_time=.9, \n",
    "            num_corrector_steps=2, corrector_step_size_multiplier=.1)\n",
    "\n",
    "samples = proj_fun(sampling_fn(model))\n",
    "\n",
    "text_samples = sedd_tokenizer.batch_decode(samples)\n",
    "for i in text_samples:\n",
    "    print(i)\n",
    "    print(\"=================================================\")"
   ]
  },
  {
   "cell_type": "code",
   "execution_count": 12,
   "id": "7d0a5df8",
   "metadata": {},
   "outputs": [],
   "source": [
    "gen_text_samples = sedd_tokenizer.batch_decode(samples[:,prefix_len:seq_len-suffix_len])"
   ]
  },
  {
   "cell_type": "code",
   "execution_count": 13,
   "id": "e2509bef",
   "metadata": {},
   "outputs": [],
   "source": [
    "decoded_examples = tokenizer.batch_decode(eval_seqs['input_ids'][:num_examples])\n",
    "sedd_encoded_examples = sedd_tokenizer(decoded_examples)"
   ]
  },
  {
   "cell_type": "code",
   "execution_count": 14,
   "id": "c886ed1f",
   "metadata": {},
   "outputs": [],
   "source": [
    "examples = []\n",
    "for i in range(num_examples):\n",
    "    example = sedd_tokenizer.decode(sedd_encoded_examples.input_ids[i][prefix_len:seq_len-suffix_len])\n",
    "    examples.append(example)"
   ]
  },
  {
   "cell_type": "code",
   "execution_count": 15,
   "id": "a75456b1",
   "metadata": {
    "scrolled": true
   },
   "outputs": [
    {
     "data": {
      "application/vnd.jupyter.widget-view+json": {
       "model_id": "f2d5b27acd1c4b7eac7fb854fdec3b5c",
       "version_major": 2,
       "version_minor": 0
      },
      "text/plain": [
       "Featurizing p:   0%|          | 0/50 [00:00<?, ?it/s]"
      ]
     },
     "metadata": {},
     "output_type": "display_data"
    },
    {
     "data": {
      "application/vnd.jupyter.widget-view+json": {
       "model_id": "b261e07eef6b45e692dd2180f0c485df",
       "version_major": 2,
       "version_minor": 0
      },
      "text/plain": [
       "Featurizing q:   0%|          | 0/10 [00:00<?, ?it/s]"
      ]
     },
     "metadata": {},
     "output_type": "display_data"
    },
    {
     "name": "stdout",
     "output_type": "stream",
     "text": [
      "0.9999520775049293\n"
     ]
    },
    {
     "name": "stderr",
     "output_type": "stream",
     "text": [
      "WARNING clustering 60 points to 2 centroids: please provide at least 78 training points\n"
     ]
    }
   ],
   "source": [
    "import mauve \n",
    "\n",
    "# call mauve.compute_mauve using raw text on GPU 0; each generation is truncated to 256 tokens\n",
    "# Seems like max text length doesn't really affect the results here\n",
    "out = mauve.compute_mauve(p_text=gen_text_samples, q_text=examples, device_id=0, max_text_length=1000, verbose=False)\n",
    "print(out.mauve) # prints 0.9917"
   ]
  },
  {
   "cell_type": "code",
   "execution_count": 16,
   "id": "b255dd8b",
   "metadata": {},
   "outputs": [
    {
     "data": {
      "text/plain": [
       "\" L ( G ) {\\\\displaystyle w\\\\in L(G)} CYK algorithm and Earley's Algorithm.\\n\\nBy 2000, many languages were more functional, some of the features which other programming languages had started with, such as pointers and modular tools from other programming languages, for example, Basis;[23] Tener, Amédine, Perles, and Shamir[25]\\n\\nLanguages that are not context-free [ edit ]\\n\\nThe\""
      ]
     },
     "execution_count": 16,
     "metadata": {},
     "output_type": "execute_result"
    }
   ],
   "source": [
    "text_samples[1]"
   ]
  }
 ],
 "metadata": {
  "kernelspec": {
   "display_name": "Python 3",
   "language": "python",
   "name": "python3"
  },
  "language_info": {
   "codemirror_mode": {
    "name": "ipython",
    "version": 3
   },
   "file_extension": ".py",
   "mimetype": "text/x-python",
   "name": "python",
   "nbconvert_exporter": "python",
   "pygments_lexer": "ipython3",
   "version": "3.9.0"
  }
 },
 "nbformat": 4,
 "nbformat_minor": 5
}
